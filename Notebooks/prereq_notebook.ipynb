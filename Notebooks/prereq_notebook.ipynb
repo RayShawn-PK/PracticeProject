{
 "cells": [
  {
   "cell_type": "code",
   "execution_count": 3,
   "id": "4a6d9174",
   "metadata": {},
   "outputs": [
    {
     "name": "stdout",
     "output_type": "stream",
     "text": [
      "Hello World\n"
     ]
    }
   ],
   "source": [
    "print (\"Hello World\")"
   ]
  },
  {
   "cell_type": "markdown",
   "id": "2a7ca1b1",
   "metadata": {},
   "source": [
    "My name is RayShawn Payton-Kilgore. I work as a Data/Process Specialist for Brown-Forman. I hope to learn practical uses for SQL and Python to further my career in data science. "
   ]
  }
 ],
 "metadata": {
  "kernelspec": {
   "display_name": "Python 3",
   "language": "python",
   "name": "python3"
  },
  "language_info": {
   "codemirror_mode": {
    "name": "ipython",
    "version": 3
   },
   "file_extension": ".py",
   "mimetype": "text/x-python",
   "name": "python",
   "nbconvert_exporter": "python",
   "pygments_lexer": "ipython3",
   "version": "3.9.13"
  }
 },
 "nbformat": 4,
 "nbformat_minor": 5
}
